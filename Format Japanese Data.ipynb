{
 "cells": [
  {
   "cell_type": "code",
   "execution_count": 1,
   "id": "4f8ac92f",
   "metadata": {},
   "outputs": [],
   "source": [
    "import pandas as pd\n",
    "import numpy as np\n",
    "import csv\n",
    "import json\n",
    "from scipy.spatial.distance import pdist\n",
    "from scipy.spatial.distance import squareform\n",
    "from sklearn.preprocessing import MinMaxScaler\n",
    "import os\n",
    "import scipy.stats as sp\n",
    "import random"
   ]
  },
  {
   "cell_type": "markdown",
   "id": "487d8c99",
   "metadata": {},
   "source": [
    "# Download Data"
   ]
  },
  {
   "cell_type": "markdown",
   "id": "78246f7b",
   "metadata": {},
   "source": [
    "## Pairwise data"
   ]
  },
  {
   "cell_type": "code",
   "execution_count": 2,
   "id": "4e17a5ce",
   "metadata": {},
   "outputs": [],
   "source": [
    "input_categories = ['A', 'B', 'C', 'D', 'E', 'F', 'G', 'H', 'I', 'J']\n",
    "def average_pairwise(label):\n",
    "    path = './data/japanese/similarity/pairwise_distance_'\n",
    "    v1 = pd.read_csv(path+label+input_categories[0]+'.csv',header=None)\n",
    "    v2 = pd.read_csv(path+label+input_categories[1]+'.csv',header=None)\n",
    "    v3 = pd.read_csv(path+label+input_categories[2]+'.csv',header=None)\n",
    "    v4 = pd.read_csv(path+label+input_categories[3]+'.csv',header=None)\n",
    "    v5 = pd.read_csv(path+label+input_categories[4]+'.csv',header=None)\n",
    "    v6 = pd.read_csv(path+label+input_categories[5]+'.csv',header=None)\n",
    "    v7 = pd.read_csv(path+label+input_categories[6]+'.csv',header=None)\n",
    "    v8 = pd.read_csv(path+label+input_categories[7]+'.csv',header=None)\n",
    "    v9 = pd.read_csv(path+label+input_categories[8]+'.csv',header=None)\n",
    "    v10 = pd.read_csv(path+label+input_categories[9]+'.csv',header=None)\n",
    "    average = pd.concat([v1, v2, v3, v4, v5, v6, v7, v8, v9, v10]).groupby(level=0).mean().fillna(0)\n",
    "    average.to_csv('./output/japan/similarity/'+label+'_average_distance.csv',index=False)\n",
    "for i in range(6):\n",
    "    average_pairwise(str(i))"
   ]
  },
  {
   "cell_type": "markdown",
   "id": "9bd64d15",
   "metadata": {},
   "source": [
    "## Feature Data\n",
    "A utility function to read the feature annotations"
   ]
  },
  {
   "cell_type": "code",
   "execution_count": 3,
   "id": "2acde10c",
   "metadata": {},
   "outputs": [],
   "source": [
    "def get_files(group):\n",
    "    entries = os.listdir('./data/japanese/evaluation/')\n",
    "    files = [entry for entry in entries if str(group) in entry]\n",
    "    return files"
   ]
  },
  {
   "cell_type": "code",
   "execution_count": 4,
   "id": "6af41260",
   "metadata": {},
   "outputs": [],
   "source": [
    "PATH = './data/japanese/evaluation/evaluation_'\n",
    "\n",
    "def format_feature(group, participant):\n",
    "    df = pd.read_csv(PATH+str(group)+participant+'.csv', header=None, index_col=0)\n",
    "    if 14 in df.columns:\n",
    "        df = df.drop(14, axis=1)\n",
    "    return df"
   ]
  },
  {
   "cell_type": "markdown",
   "id": "53c75d5d",
   "metadata": {},
   "source": [
    "## Feature Distance matrix\n",
    "A utility function to convert the songwise features into a distance matrix within a 0 to 1 range"
   ]
  },
  {
   "cell_type": "code",
   "execution_count": 5,
   "id": "2a4fd7a5",
   "metadata": {},
   "outputs": [],
   "source": [
    "def save_full_feature_distance(participant):\n",
    "    full_matrix = format_feature(0, participant)\n",
    "    for i in range(1,6):\n",
    "            full_matrix = np.concatenate([full_matrix, format_feature(i, participant)], axis=0)\n",
    "    distance_matrix = pd.DataFrame(get_feature_distance(full_matrix))\n",
    "    distance_matrix.to_csv('./output/japan/feature/'+participant+'_feature.csv', index=False)"
   ]
  },
  {
   "cell_type": "code",
   "execution_count": 6,
   "id": "ae7b1fda",
   "metadata": {},
   "outputs": [],
   "source": [
    "def get_feature_distance(input_data):\n",
    "    data = squareform(pdist(input_data, metric='euclidean'))\n",
    "    scaler = MinMaxScaler()\n",
    "    scaler.fit(data)\n",
    "    return scaler.transform(data)"
   ]
  },
  {
   "cell_type": "code",
   "execution_count": 7,
   "id": "ccb51a1c",
   "metadata": {},
   "outputs": [],
   "source": [
    "for i in range(6):\n",
    "    files = get_files(i)\n",
    "    for file in files:\n",
    "        participant_id = file.split('.')[0][-1]\n",
    "        data = format_feature(i, participant_id)\n",
    "        distance = pd.DataFrame(get_feature_distance(data))\n",
    "        distance.to_csv('./output/japan/feature/'+str(i)+participant_id+'_distance.csv', index=False)"
   ]
  },
  {
   "cell_type": "markdown",
   "id": "9489acc5",
   "metadata": {},
   "source": [
    "## Get feature distances"
   ]
  },
  {
   "cell_type": "code",
   "execution_count": 8,
   "id": "a36c8de3",
   "metadata": {},
   "outputs": [],
   "source": [
    "feature_names = ['Ornamentation', 'Grooviness', 'Familiarity', 'Liking', 'Consonance', 'Valence', 'Excitement', 'Vocal Range', 'Sound Quality', 'Tempo', 'Rhythmic Regularity', 'Vocal Tension', 'Vocal Texture']\n",
    "\n",
    "def get_individual_feature(feature_index, participant):\n",
    "    feature_vector = format_feature(0, participant)[feature_index]\n",
    "    label = feature_names[feature_index-1].lower().replace(' ', '_')\n",
    "    for i in range(1,6):\n",
    "        feature_vector = np.concatenate([feature_vector, format_feature(i, participant)[[feature_index]]], axis=None)\n",
    "    feature_df = pd.DataFrame(feature_vector, columns=[feature_index])\n",
    "    feature_distance = pd.DataFrame(get_feature_distance(feature_df))\n",
    "    feature_distance.to_csv('./output/japan/feature/'+label+'_'+participant+'.csv', index=False)\n",
    "for cluster in input_categories:\n",
    "    for i in range(1, len(feature_names)):\n",
    "        get_individual_feature(i, cluster)"
   ]
  },
  {
   "cell_type": "markdown",
   "id": "c64e825f",
   "metadata": {},
   "source": [
    "## Get Average Feature Distance Matrix"
   ]
  },
  {
   "cell_type": "code",
   "execution_count": 9,
   "id": "e78184ea",
   "metadata": {},
   "outputs": [],
   "source": [
    "input_categories = ['A', 'B', 'C', 'D', 'E', 'F', 'G', 'H', 'I', 'J']\n",
    "def average_distance_matrix(label):\n",
    "    path = './output/japan/feature/'\n",
    "    v1 = pd.read_csv(path+label+'_'+input_categories[0]+'.csv')\n",
    "    v2 = pd.read_csv(path+label+'_'+input_categories[1]+'.csv')\n",
    "    v3 = pd.read_csv(path+label+'_'+input_categories[2]+'.csv')\n",
    "    v4 = pd.read_csv(path+label+'_'+input_categories[3]+'.csv')\n",
    "    v5 = pd.read_csv(path+label+'_'+input_categories[4]+'.csv')\n",
    "    v6 = pd.read_csv(path+label+'_'+input_categories[5]+'.csv')\n",
    "    v7 = pd.read_csv(path+label+'_'+input_categories[6]+'.csv')\n",
    "    v8 = pd.read_csv(path+label+'_'+input_categories[7]+'.csv')\n",
    "    v9 = pd.read_csv(path+label+'_'+input_categories[8]+'.csv')\n",
    "    v10 = pd.read_csv(path+label+'_'+input_categories[9]+'.csv')\n",
    "    average = pd.concat([v1, v2, v3, v4, v5, v6, v7, v8, v9, v10]).groupby(level=0).mean()\n",
    "    average.to_csv('./output/japan/feature/'+label+'_average.csv', index=False)\n",
    "    \n",
    "for i in range(1, len(feature_names)+1):\n",
    "    label = feature_names[i-1].lower().replace(' ', '_')\n",
    "    average_distance_matrix(label)"
   ]
  },
  {
   "cell_type": "markdown",
   "id": "38fdca79",
   "metadata": {},
   "source": [
    "## Correlation"
   ]
  },
  {
   "cell_type": "code",
   "execution_count": 10,
   "id": "9d89b6fe",
   "metadata": {},
   "outputs": [],
   "source": []
  },
  {
   "cell_type": "code",
   "execution_count": 11,
   "id": "e337f867",
   "metadata": {},
   "outputs": [],
   "source": []
  },
  {
   "cell_type": "code",
   "execution_count": 12,
   "id": "dda66b86",
   "metadata": {},
   "outputs": [],
   "source": []
  },
  {
   "cell_type": "code",
   "execution_count": 23,
   "id": "9e19db11",
   "metadata": {},
   "outputs": [],
   "source": []
  },
  {
   "cell_type": "code",
   "execution_count": 27,
   "id": "0a022bb1",
   "metadata": {},
   "outputs": [],
   "source": []
  },
  {
   "cell_type": "code",
   "execution_count": 34,
   "id": "a086d92a",
   "metadata": {},
   "outputs": [
    {
     "name": "stdout",
     "output_type": "stream",
     "text": [
      "sig 0.0022402624065292745\n"
     ]
    }
   ],
   "source": []
  },
  {
   "cell_type": "code",
   "execution_count": 20,
   "id": "f42031b2",
   "metadata": {},
   "outputs": [
    {
     "name": "stdout",
     "output_type": "stream",
     "text": [
      "0.08038783656406388 0.22753796649070326\n"
     ]
    }
   ],
   "source": [
    "print(p, r)"
   ]
  },
  {
   "cell_type": "code",
   "execution_count": 17,
   "id": "95a04a4a",
   "metadata": {},
   "outputs": [
    {
     "data": {
      "image/png": "[encoded data removed]",
      "text/plain": [
       "<Figure size 842.4x595.44 with 1 Axes>"
      ]
     },
     "metadata": {},
     "output_type": "display_data"
    }
   ],
   "source": []
  },
  {
   "cell_type": "code",
   "execution_count": 131,
   "id": "fa2066cd",
   "metadata": {},
   "outputs": [
    {
     "name": "stdout",
     "output_type": "stream",
     "text": [
      "0.05 0.71\n",
      "0.07 0.59\n",
      "-0.05 0.72\n",
      "0.04 0.78\n",
      "0.08 0.55\n",
      "0.14 0.29\n",
      "0.11 0.39\n",
      "0.15 0.26\n",
      "0.19 0.16\n",
      "0.02 0.89\n",
      "0.24 0.07\n",
      "0.07 0.61\n",
      "-0.05 0.68\n"
     ]
    }
   ],
   "source": []
  }
 ],
 "metadata": {
  "kernelspec": {
   "display_name": "Python 3 (ipykernel)",
   "language": "python",
   "name": "python3"
  },
  "language_info": {
   "codemirror_mode": {
    "name": "ipython",
    "version": 3
   },
   "file_extension": ".py",
   "mimetype": "text/x-python",
   "name": "python",
   "nbconvert_exporter": "python",
   "pygments_lexer": "ipython3",
   "version": "3.8.10"
  }
 },
 "nbformat": 4,
 "nbformat_minor": 5
}
