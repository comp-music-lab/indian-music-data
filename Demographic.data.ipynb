{
 "cells": [
  {
   "cell_type": "code",
   "execution_count": 1,
   "metadata": {},
   "outputs": [],
   "source": [
    "import pandas as pd\n",
    "import numpy as np\n",
    "import scipy.stats as sp\n",
    "import matplotlib.pyplot as plt\n",
    "import seaborn as sns\n",
    "import csv\n",
    "import json\n",
    "import json\n",
    "import random"
   ]
  },
  {
   "cell_type": "code",
   "execution_count": 2,
   "metadata": {},
   "outputs": [],
   "source": [
    "def get_columns(path):\n",
    "    df = pd.read_csv(path)\n",
    "    return df.columns"
   ]
  },
  {
   "cell_type": "code",
   "execution_count": 3,
   "metadata": {},
   "outputs": [],
   "source": [
    "def get_attribute(path, attr):\n",
    "    df = pd.read_csv(path)\n",
    "    df = df.filter(items=[attr])\n",
    "    return df"
   ]
  },
  {
   "cell_type": "code",
   "execution_count": 4,
   "metadata": {},
   "outputs": [],
   "source": [
    "def plot_data(data, xlab, ylab):\n",
    "    plt.figure(figsize=(10, 5))\n",
    "    data.plot(kind='bar')\n",
    "    plt.xlabel(xlab)\n",
    "    plt.ylabel(ylab)"
   ]
  },
  {
   "attachments": {},
   "cell_type": "markdown",
   "metadata": {},
   "source": [
    "# Native Language"
   ]
  },
  {
   "cell_type": "code",
   "execution_count": null,
   "metadata": {},
   "outputs": [],
   "source": [
    "# Get Data\n",
    "PATH = './demographic-data/indian.csv'\n",
    "language = get_attribute(PATH, \"Native Tongue (母国語)\")\n",
    "\n",
    "# Clean data\n",
    "language.replace(to_replace= \"KANNADA\", value = \"Kannada\", inplace=True )\n",
    "language.replace(to_replace= \"Kannada \", value = \"Kannada\", inplace=True )\n",
    "language.replace(to_replace= \"Malyalam\", value = \"Malayalam\", inplace=True )\n",
    "language = language[\"Native Tongue (母国語)\"] \n",
    "summary = language.value_counts()\n",
    "\n",
    "# Plot summary\n",
    "plot_data(summary, 'Language', 'Frequency')\n",
    "\n",
    "# Categorize Data\n",
    "indo_aryan = {'Hindi', 'Bengali', 'Gujarati'}\n",
    "dravidian = {'Kannada', 'Tamil', 'Telugu', 'Malayalam'}\n",
    "language_counts = {'Indo_Aryan': 0, 'Dravidian': 0, 'English': summary['English']}\n",
    "for key, value in summary.iteritems():\n",
    "    if key in indo_aryan:\n",
    "        language_counts['Indo_Aryan']+=value\n",
    "    elif key in dravidian:\n",
    "        language_counts['Dravidian']+=value\n",
    "\n",
    "# Plot language family\n",
    "language_counts = pd.DataFrame(language_counts, index=['Counts']).transpose()\n",
    "plot_data(language_counts, 'Language Family', 'Frequency')"
   ]
  },
  {
   "attachments": {},
   "cell_type": "markdown",
   "metadata": {},
   "source": [
    "## Language Summary By Group"
   ]
  },
  {
   "cell_type": "code",
   "execution_count": 28,
   "metadata": {},
   "outputs": [],
   "source": [
    "PATH = './demographic-data/indian.csv'\n",
    "df = pd.read_csv(PATH)\n",
    "df.replace(to_replace= \"KANNADA\", value = \"Kannada\", inplace=True )\n",
    "df.replace(to_replace= \"Kannada \", value = \"Kannada\", inplace=True )\n",
    "df.replace(to_replace= \"Malyalam\", value = \"Malayalam\", inplace=True )\n",
    "lang_details_in = df.groupby(['Demographic', 'Musicianship'])[get_columns(PATH)[4]].value_counts()\n",
    "pd.DataFrame(lang_details_in).to_csv('./demographic-data/lang_summary_india.csv')\n",
    "\n",
    "PATH = './demographic-data/japanese.csv'\n",
    "df = pd.read_csv(PATH)\n",
    "df.replace(to_replace= \"KANNADA\", value = \"Kannada\", inplace=True )\n",
    "df.replace(to_replace= \"Kannada \", value = \"Kannada\", inplace=True )\n",
    "df.replace(to_replace= \"Malyalam\", value = \"Malayalam\", inplace=True )\n",
    "lang_details_jp = df.groupby(['Demographic', 'Musicianship'])[get_columns(PATH)[4]].value_counts()\n",
    "pd.DataFrame(lang_details_jp).to_csv('./demographic-data/lang_summary_japan.csv')\n",
    "\n",
    "lang_details = pd.concat([lang_details_in, lang_details_jp])\n",
    "pd.DataFrame(lang_details).to_csv('./demographic-data/lang_summary.csv')\n"
   ]
  },
  {
   "attachments": {},
   "cell_type": "markdown",
   "metadata": {},
   "source": [
    "# Gender"
   ]
  },
  {
   "cell_type": "code",
   "execution_count": 65,
   "metadata": {},
   "outputs": [
    {
     "data": {
      "text/plain": [
       "<Figure size 720x360 with 0 Axes>"
      ]
     },
     "metadata": {},
     "output_type": "display_data"
    },
    {
     "data": {
      "image/png": "[encoded data removed]",
      "text/plain": [
       "<Figure size 432x288 with 1 Axes>"
      ]
     },
     "metadata": {
      "needs_background": "light"
     },
     "output_type": "display_data"
    },
    {
     "data": {
      "text/plain": [
       "<Figure size 720x360 with 0 Axes>"
      ]
     },
     "metadata": {},
     "output_type": "display_data"
    },
    {
     "data": {
      "image/png": "[encoded data removed]",
      "text/plain": [
       "<Figure size 432x288 with 1 Axes>"
      ]
     },
     "metadata": {
      "needs_background": "light"
     },
     "output_type": "display_data"
    }
   ],
   "source": [
    "col = get_columns(PATH)[5]\n",
    "second_language = get_attribute(PATH, col)\n",
    "second_language.replace(to_replace= \"日本語, English\", value = \"Japanese, English\", inplace=True )\n",
    "second_language.replace(to_replace= \"English, Hindi, Telugu, Kannada ; Tulu\", value = \"English, Hindi, Telugu, Kannada, Tulu\", inplace=True )\n",
    "second_language.replace(to_replace= \"English,Telugu, Hindi\", value = \"English, Telugu, Hindi\", inplace=True )\n",
    "second_language.replace(to_replace= \"English, Hindi, Tamil, Gujarati, Kutchi, Malayalam,Marathi\", value = \"English, Hindi, Tamil, Gujarati, Kutchi, Malayalam, Marathi\", inplace=True )\n",
    "second_language = second_language[col]\n",
    "\n",
    "lns = {}\n",
    "for i in second_language:\n",
    "    l = i.split(', ')\n",
    "    for j in l:\n",
    "        if j not in lns:\n",
    "            lns[j] = 1\n",
    "        else:\n",
    "            lns[j] += 1\n",
    "\n",
    "lns = pd.DataFrame(lns, index=['Language']).transpose()\n",
    "plot_data(lns, 'Gender', 'Frequency')\n",
    "\n",
    "indo_aryan = {'Hindi', 'Bengali', 'Gujarati', 'Marathi', 'Sanskrit.', 'Sanskrit', 'Punjabi', 'Sindhi', 'Assamese'}\n",
    "dravidian = {'Kannada', 'Tamil', 'Telugu', 'Malayalam', 'Tulu', 'Kutchi'}\n",
    "european = {'Français', 'Español', 'Deutsche'}\n",
    "language_counts = {'Indo-Aryan': 0, 'Dravidian': 0, 'European': 0}\n",
    "\n",
    "for key, value in lns['Language'].iteritems():\n",
    "    if key in indo_aryan:\n",
    "        language_counts['Indo-Aryan']+=value\n",
    "    elif key in dravidian:\n",
    "        language_counts['Dravidian']+=value\n",
    "    elif key in european:\n",
    "        language_counts['European']+=value\n",
    "\n",
    "# Plot language family\n",
    "language_counts = pd.DataFrame(language_counts, index=['Counts']).transpose()\n",
    "plot_data(language_counts, 'Language Family', 'Frequency')"
   ]
  },
  {
   "cell_type": "code",
   "execution_count": 6,
   "metadata": {},
   "outputs": [
    {
     "data": {
      "image/png": "[encoded data removed]",
      "text/plain": [
       "<Figure size 720x360 with 1 Axes>"
      ]
     },
     "metadata": {
      "needs_background": "light"
     },
     "output_type": "display_data"
    }
   ],
   "source": [
    "col = get_columns(PATH)[-1]\n",
    "gender = get_attribute(PATH, col)\n",
    "gender = gender[col] \n",
    "gender.replace(to_replace= \"男性\", value = \"Male\", inplace=True )\n",
    "\n",
    "summary = gender.value_counts()\n",
    "plot_data(summary, 'Gender', 'Frequency')"
   ]
  },
  {
   "attachments": {},
   "cell_type": "markdown",
   "metadata": {},
   "source": [
    "## Gender Summary By Group"
   ]
  },
  {
   "cell_type": "code",
   "execution_count": 36,
   "metadata": {},
   "outputs": [],
   "source": [
    "PATH = './demographic-data/indian.csv'\n",
    "df = pd.read_csv(PATH)\n",
    "df.replace(to_replace= \"男性\", value = \"Male\", inplace=True )\n",
    "gender_details_in = df.groupby(['Demographic', 'Musicianship'])[get_columns(PATH)[-1]].value_counts()\n",
    "pd.DataFrame(gender_details_in).to_csv('./demographic-data/gender_summary_india.csv')\n",
    "\n",
    "PATH = './demographic-data/japanese.csv'\n",
    "df = pd.read_csv(PATH)\n",
    "df.replace(to_replace= \"男性\", value = \"Male\", inplace=True )\n",
    "gender_details_jp = df.groupby(['Demographic', 'Musicianship'])['Gender (性別)'].value_counts()\n",
    "pd.DataFrame(gender_details_jp).to_csv('./demographic-data/gender_summary_japan.csv')\n",
    "\n",
    "gender_details = pd.concat([gender_details_in, gender_details_jp])\n",
    "pd.DataFrame(gender_details).to_csv('./demographic-data/gender_summary.csv')"
   ]
  },
  {
   "cell_type": "code",
   "execution_count": 35,
   "metadata": {},
   "outputs": [
    {
     "data": {
      "text/plain": [
       "Index(['Timestamp', 'ID', 'Demographic', 'Musicianship', 'Native Tongue (母国語)',\n",
       "       'Which other languages can you read and/or understand? （他のどの言語を読んだり理解できるか?）',\n",
       "       'How long have you been playing music? ( 音楽経験歴 )',\n",
       "       'What kind of music do you listen to? （好きなジャンル/国教えてください）',\n",
       "       'Name some of your favorite musical artists. (好きなアーティスト名教えてください)',\n",
       "       'How familiar are you with world music? (どれぐらい民俗音楽を聴いたことありますか?)',\n",
       "       'Gender (性別)', 'Unnamed: 11', 'Unnamed: 12', 'Unnamed: 13',\n",
       "       'Unnamed: 14', 'Unnamed: 15', 'Unnamed: 16'],\n",
       "      dtype='object')"
      ]
     },
     "execution_count": 35,
     "metadata": {},
     "output_type": "execute_result"
    }
   ],
   "source": []
  },
  {
   "cell_type": "code",
   "execution_count": 8,
   "metadata": {},
   "outputs": [
    {
     "name": "stdout",
     "output_type": "stream",
     "text": [
      "0 Timestamp\n",
      "1 ID\n",
      "2 Demographic\n",
      "3 Musicianship\n",
      "4 Native Tongue (母国語)\n",
      "5 Which other languages can you read and/or understand? （他のどの言語を読んだり理解できるか?）\n",
      "6 How long have you been playing music? ( 音楽経験歴 )\n",
      "7 What kind of music do you listen to? （好きなジャンル/国教えてください）\n",
      "8 Name some of your favorite musical artists. (好きなアーティスト名教えてください)\n",
      "9 How familiar are you with world music? (どれぐらい民俗音楽を聴いたことありますか?)\n",
      "10 Gender (性別)\n"
     ]
    }
   ],
   "source": [
    "col = get_columns(PATH)\n",
    "for i in range(len(col)):\n",
    "    print(i, col[i])"
   ]
  },
  {
   "attachments": {},
   "cell_type": "markdown",
   "metadata": {},
   "source": [
    "# Musicianship"
   ]
  },
  {
   "cell_type": "code",
   "execution_count": 9,
   "metadata": {},
   "outputs": [
    {
     "data": {
      "image/png": "[encoded data removed]",
      "text/plain": [
       "<Figure size 720x360 with 1 Axes>"
      ]
     },
     "metadata": {
      "needs_background": "light"
     },
     "output_type": "display_data"
    }
   ],
   "source": [
    "musicianship = get_attribute(PATH, col[6])\n",
    "musicianship = musicianship[col[6]]\n",
    "\n",
    "# Clean Data\n",
    "\n",
    "musicianship.replace(to_replace= \"10+ years ( 10年以上)\", value = \"10+ years\", inplace=True)\n",
    "musicianship.replace(to_replace= \"5-9 years ( 2-9 年)\", value = \"5-9 years\", inplace=True)\n",
    "musicianship.replace(to_replace= \"2-5 years ( 2-5 年)\", value = \"2-5 years\", inplace=True)\n",
    "musicianship.replace(to_replace= \"~ 2 years ( ~ 2 年 )\", value = \"< 2 years\", inplace=True)\n",
    "musicianship.replace(to_replace= \"No experience (無し)\", value = \"No Experience\", inplace=True)\n",
    "\n",
    "summary = musicianship.value_counts()\n",
    "plot_data(summary, 'Musicianship', 'Frequency')"
   ]
  },
  {
   "cell_type": "code",
   "execution_count": 73,
   "metadata": {},
   "outputs": [],
   "source": [
    "df.replace(to_replace= \"10+ years ( 10年以上)\", value = \"10+ years\", inplace=True)\n",
    "df.replace(to_replace= \"5-9 years ( 2-9 年)\", value = \"5-9 years\", inplace=True)\n",
    "df.replace(to_replace= \"2-5 years ( 2-5 年)\", value = \"2-5 years\", inplace=True)\n",
    "df.replace(to_replace= \"~ 2 years ( ~ 2 年 )\", value = \"< 2 years\", inplace=True)\n",
    "df.replace(to_replace= \"No experience (無し)\", value = \"No Experience\", inplace=True)\n",
    "musicianship_details = df.groupby(['Demographic', 'Musicianship'])[get_columns(PATH)[6]].value_counts()\n",
    "pd.DataFrame(musicianship_details).to_csv('./demographic-data/musicianship_summary.csv')"
   ]
  },
  {
   "attachments": {},
   "cell_type": "markdown",
   "metadata": {},
   "source": [
    "# Musical Preference"
   ]
  },
  {
   "cell_type": "code",
   "execution_count": 72,
   "metadata": {},
   "outputs": [],
   "source": [
    "col = get_columns(PATH)[7]\n",
    "preference = get_attribute(PATH, col)\n",
    "preference_details = df.groupby(['Demographic', 'Musicianship'])[get_columns(PATH)[7]].value_counts()\n",
    "pd.DataFrame(preference_details).to_csv('./demographic-data/preference_summary.csv')"
   ]
  }
 ],
 "metadata": {
  "kernelspec": {
   "display_name": "Python 3",
   "language": "python",
   "name": "python3"
  },
  "language_info": {
   "codemirror_mode": {
    "name": "ipython",
    "version": 3
   },
   "file_extension": ".py",
   "mimetype": "text/x-python",
   "name": "python",
   "nbconvert_exporter": "python",
   "pygments_lexer": "ipython3",
   "version": "3.9.13"
  },
  "orig_nbformat": 4
 },
 "nbformat": 4,
 "nbformat_minor": 2
}
