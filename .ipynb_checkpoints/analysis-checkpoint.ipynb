{
 "cells": [
  {
   "cell_type": "code",
   "execution_count": 1,
   "id": "4f8ac92f",
   "metadata": {},
   "outputs": [],
   "source": [
    "import pandas as pd\n",
    "import numpy as np\n",
    "import csv\n",
    "import json"
   ]
  },
  {
   "cell_type": "markdown",
   "id": "9bd64d15",
   "metadata": {},
   "source": [
    "# Download Data\n",
    "## Pairwise Data"
   ]
  },
  {
   "cell_type": "code",
   "execution_count": 8,
   "id": "6af41260",
   "metadata": {},
   "outputs": [
    {
     "name": "stdout",
     "output_type": "stream",
     "text": [
      "[{'song_a': 0, 'song_b': 1, 'song_c': 2, 'option': 0}, {'song_a': 0, 'song_b': 1, 'song_c': 3, 'option': 2}, {'song_a': 0, 'song_b': 1, 'song_c': 4, 'option': 2}, {'song_a': 0, 'song_b': 2, 'song_c': 3, 'option': 1}, {'song_a': 0, 'song_b': 2, 'song_c': 4, 'option': 2}, {'song_a': 0, 'song_b': 3, 'song_c': 4, 'option': 2}, {'song_a': 1, 'song_b': 2, 'song_c': 3, 'option': 2}, {'song_a': 1, 'song_b': 2, 'song_c': 4, 'option': 2}, {'song_a': 1, 'song_b': 3, 'song_c': 4, 'option': 2}, {'song_a': 2, 'song_b': 3, 'song_c': 4, 'option': 2}]\n"
     ]
    }
   ],
   "source": []
  },
  {
   "cell_type": "code",
   "execution_count": null,
   "id": "f4bb02bf",
   "metadata": {},
   "outputs": [],
   "source": []
  }
 ],
 "metadata": {
  "kernelspec": {
   "display_name": "Python 3 (ipykernel)",
   "language": "python",
   "name": "python3"
  },
  "language_info": {
   "codemirror_mode": {
    "name": "ipython",
    "version": 3
   },
   "file_extension": ".py",
   "mimetype": "text/x-python",
   "name": "python",
   "nbconvert_exporter": "python",
   "pygments_lexer": "ipython3",
   "version": "3.8.10"
  }
 },
 "nbformat": 4,
 "nbformat_minor": 5
}
