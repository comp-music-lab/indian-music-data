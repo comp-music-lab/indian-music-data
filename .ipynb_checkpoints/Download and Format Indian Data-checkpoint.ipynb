{
 "cells": [
  {
   "cell_type": "code",
   "execution_count": 127,
   "id": "4f8ac92f",
   "metadata": {},
   "outputs": [],
   "source": [
    "import pandas as pd\n",
    "import numpy as np\n",
    "import csv\n",
    "import json\n",
    "from scipy.spatial.distance import pdist\n",
    "from scipy.spatial.distance import squareform\n",
    "from sklearn.preprocessing import MinMaxScaler"
   ]
  },
  {
   "cell_type": "markdown",
   "id": "487d8c99",
   "metadata": {},
   "source": [
    "# Download Data"
   ]
  },
  {
   "cell_type": "markdown",
   "id": "b0938bd4",
   "metadata": {},
   "source": [
    "## Pairwise Data\n",
    "A utility function to get read the pairwise distance matrices and convert them to a 0 to 1 range"
   ]
  },
  {
   "cell_type": "code",
   "execution_count": 137,
   "id": "e71f22e1",
   "metadata": {},
   "outputs": [],
   "source": [
    "PATH = './data/indian/similarity/pairwise_distance_'\n",
    "CLUSTER_MAP = {'north': {'musician': 'A', 'non_musician':'B'}, 'south': {'musician':'C', 'non_musician':'D'}}\n",
    "\n",
    "def format_pair(group, region, demographic):\n",
    "    df = pd.read_csv(PATH+str(group)+CLUSTER_MAP[region][demographic]+'.csv', header=None)\n",
    "    return df\n",
    "\n",
    "#format_pair(0, 'north', 'musician')/100"
   ]
  },
  {
   "cell_type": "markdown",
   "id": "9bd64d15",
   "metadata": {},
   "source": [
    "## Feature Data\n",
    "A utility function to read the feature annotations"
   ]
  },
  {
   "cell_type": "code",
   "execution_count": 129,
   "id": "6af41260",
   "metadata": {},
   "outputs": [
    {
     "data": {
      "text/html": [
       "<div>\n",
       "<style scoped>\n",
       "    .dataframe tbody tr th:only-of-type {\n",
       "        vertical-align: middle;\n",
       "    }\n",
       "\n",
       "    .dataframe tbody tr th {\n",
       "        vertical-align: top;\n",
       "    }\n",
       "\n",
       "    .dataframe thead th {\n",
       "        text-align: right;\n",
       "    }\n",
       "</style>\n",
       "<table border=\"1\" class=\"dataframe\">\n",
       "  <thead>\n",
       "    <tr style=\"text-align: right;\">\n",
       "      <th></th>\n",
       "      <th>1</th>\n",
       "      <th>2</th>\n",
       "      <th>3</th>\n",
       "      <th>4</th>\n",
       "      <th>5</th>\n",
       "      <th>6</th>\n",
       "      <th>7</th>\n",
       "      <th>8</th>\n",
       "      <th>9</th>\n",
       "      <th>10</th>\n",
       "      <th>11</th>\n",
       "      <th>12</th>\n",
       "      <th>13</th>\n",
       "    </tr>\n",
       "    <tr>\n",
       "      <th>0</th>\n",
       "      <th></th>\n",
       "      <th></th>\n",
       "      <th></th>\n",
       "      <th></th>\n",
       "      <th></th>\n",
       "      <th></th>\n",
       "      <th></th>\n",
       "      <th></th>\n",
       "      <th></th>\n",
       "      <th></th>\n",
       "      <th></th>\n",
       "      <th></th>\n",
       "      <th></th>\n",
       "    </tr>\n",
       "  </thead>\n",
       "  <tbody>\n",
       "    <tr>\n",
       "      <th>0</th>\n",
       "      <td>100</td>\n",
       "      <td>0</td>\n",
       "      <td>50</td>\n",
       "      <td>50</td>\n",
       "      <td>50</td>\n",
       "      <td>100</td>\n",
       "      <td>50</td>\n",
       "      <td>50</td>\n",
       "      <td>0</td>\n",
       "      <td>50</td>\n",
       "      <td>100</td>\n",
       "      <td>100</td>\n",
       "      <td>50</td>\n",
       "    </tr>\n",
       "    <tr>\n",
       "      <th>1</th>\n",
       "      <td>100</td>\n",
       "      <td>0</td>\n",
       "      <td>50</td>\n",
       "      <td>50</td>\n",
       "      <td>100</td>\n",
       "      <td>100</td>\n",
       "      <td>0</td>\n",
       "      <td>100</td>\n",
       "      <td>50</td>\n",
       "      <td>100</td>\n",
       "      <td>50</td>\n",
       "      <td>50</td>\n",
       "      <td>0</td>\n",
       "    </tr>\n",
       "    <tr>\n",
       "      <th>2</th>\n",
       "      <td>0</td>\n",
       "      <td>0</td>\n",
       "      <td>50</td>\n",
       "      <td>50</td>\n",
       "      <td>50</td>\n",
       "      <td>50</td>\n",
       "      <td>0</td>\n",
       "      <td>0</td>\n",
       "      <td>50</td>\n",
       "      <td>0</td>\n",
       "      <td>0</td>\n",
       "      <td>0</td>\n",
       "      <td>0</td>\n",
       "    </tr>\n",
       "    <tr>\n",
       "      <th>3</th>\n",
       "      <td>100</td>\n",
       "      <td>50</td>\n",
       "      <td>50</td>\n",
       "      <td>50</td>\n",
       "      <td>50</td>\n",
       "      <td>100</td>\n",
       "      <td>50</td>\n",
       "      <td>50</td>\n",
       "      <td>0</td>\n",
       "      <td>100</td>\n",
       "      <td>100</td>\n",
       "      <td>100</td>\n",
       "      <td>50</td>\n",
       "    </tr>\n",
       "    <tr>\n",
       "      <th>4</th>\n",
       "      <td>0</td>\n",
       "      <td>0</td>\n",
       "      <td>50</td>\n",
       "      <td>0</td>\n",
       "      <td>50</td>\n",
       "      <td>50</td>\n",
       "      <td>100</td>\n",
       "      <td>50</td>\n",
       "      <td>50</td>\n",
       "      <td>50</td>\n",
       "      <td>0</td>\n",
       "      <td>0</td>\n",
       "      <td>100</td>\n",
       "    </tr>\n",
       "  </tbody>\n",
       "</table>\n",
       "</div>"
      ],
      "text/plain": [
       "    1   2   3   4    5    6    7    8   9    10   11   12   13\n",
       "0                                                             \n",
       "0  100   0  50  50   50  100   50   50   0   50  100  100   50\n",
       "1  100   0  50  50  100  100    0  100  50  100   50   50    0\n",
       "2    0   0  50  50   50   50    0    0  50    0    0    0    0\n",
       "3  100  50  50  50   50  100   50   50   0  100  100  100   50\n",
       "4    0   0  50   0   50   50  100   50  50   50    0    0  100"
      ]
     },
     "execution_count": 129,
     "metadata": {},
     "output_type": "execute_result"
    }
   ],
   "source": [
    "PATH = './data/indian/evaluation/evaluation_'\n",
    "CLUSTER_MAP = {'north': {'musician': 'A', 'non_musician':'B'}, 'south': {'musician':'C', 'non_musician':'D'}}\n",
    "\n",
    "def format_feature(group, region, demographic):\n",
    "    df = pd.read_csv(PATH+str(group)+CLUSTER_MAP[region][demographic]+'.csv', header=None, index_col=0)\n",
    "    if 14 in df.columns:\n",
    "        df = df.drop(14, axis=1)\n",
    "    return df\n",
    "\n",
    "format_feature(0, 'north', 'musician')"
   ]
  },
  {
   "cell_type": "markdown",
   "id": "53c75d5d",
   "metadata": {},
   "source": [
    "## Feature Distance matrix\n",
    "A utility function to convert the songwise features into a distance matrix within a 0 to 1 range"
   ]
  },
  {
   "cell_type": "code",
   "execution_count": 130,
   "id": "89a8d235",
   "metadata": {},
   "outputs": [
    {
     "data": {
      "text/plain": [
       "array([[0.        , 0.64888568, 0.90453403, 0.30151134, 0.9459053 ],\n",
       "       [0.66666667, 0.        , 0.85280287, 0.60302269, 1.        ],\n",
       "       [1.        , 0.91766294, 0.        , 1.        , 0.76088591],\n",
       "       [0.33333333, 0.64888568, 1.        , 0.        , 1.        ],\n",
       "       [0.97182532, 1.        , 0.70710678, 0.92932038, 0.        ]])"
      ]
     },
     "execution_count": 130,
     "metadata": {},
     "output_type": "execute_result"
    }
   ],
   "source": [
    "def get_feature_distance(input_data):\n",
    "    data = squareform(pdist(input_data, metric='euclidean'))\n",
    "    scaler = MinMaxScaler()\n",
    "    scaler.fit(data)\n",
    "    return scaler.transform(data)\n",
    "get_feature_distance(format_feature(0, 'north', 'musician'))"
   ]
  },
  {
   "cell_type": "markdown",
   "id": "08015cbb",
   "metadata": {},
   "source": [
    "## Save Full Distance Matrix By Region & Category\n",
    "\n",
    "Here we create separate distance matrices for North Indian Musician, South Indian Musician, North Indian non-musician and South Indian non-musician"
   ]
  },
  {
   "cell_type": "code",
   "execution_count": 131,
   "id": "2a4fd7a5",
   "metadata": {},
   "outputs": [],
   "source": [
    "def save_full_feature_distance(region, category):\n",
    "    full_matrix = format_feature(0, region, category)\n",
    "    for i in range(1,6):\n",
    "        full_matrix = np.concatenate([full_matrix, format_feature(i, region, category)], axis=0)\n",
    "    distance_matrix = pd.DataFrame(get_feature_distance(full_matrix))\n",
    "    distance_matrix.to_csv('./output/india/feature/'+region+'_'+category+'_full.csv')\n",
    "save_full_feature_distance('north', 'musician')\n",
    "save_full_feature_distance('south', 'musician')\n",
    "save_full_feature_distance('north', 'non_musician')\n",
    "save_full_feature_distance('south', 'non_musician')"
   ]
  },
  {
   "cell_type": "markdown",
   "id": "c64e825f",
   "metadata": {},
   "source": [
    "## Get Average Feature Distance Matrix"
   ]
  },
  {
   "cell_type": "code",
   "execution_count": 132,
   "id": "e78184ea",
   "metadata": {},
   "outputs": [],
   "source": [
    "def average_distance_matrix(input_categories, label):\n",
    "    v1 = pd.read_csv('./output/india/feature/'+input_categories[0]+'.csv', index_col=0)\n",
    "    v2 = pd.read_csv('./output/india/feature/'+input_categories[1]+'.csv', index_col=0)\n",
    "    average = pd.concat([v1, v2]).groupby(level=0).mean()\n",
    "    average.to_csv('./output/india/feature/'+label+'_average.csv')\n",
    "average_distance_matrix(['north_musician_full', 'north_non_musician_full'], 'north')\n",
    "average_distance_matrix(['south_musician_full', 'south_non_musician_full'], 'south')\n",
    "average_distance_matrix(['south_musician_full', 'south_non_musician_full'], 'south')\n",
    "average_distance_matrix(['south_musician_full', 'north_musician_full'], 'musician')\n",
    "average_distance_matrix(['north_non_musician_full', 'south_non_musician_full'], 'non_musician')\n",
    "average_distance_matrix(['north_average', 'north_average'], 'india')"
   ]
  },
  {
   "cell_type": "markdown",
   "id": "9489acc5",
   "metadata": {},
   "source": [
    "## Get feature distances"
   ]
  },
  {
   "cell_type": "code",
   "execution_count": 133,
   "id": "a36c8de3",
   "metadata": {},
   "outputs": [],
   "source": [
    "feature_names = ['Ornamentation', 'Grooviness', 'Familiarity', 'Liking', 'Consonance', 'Valence', 'Excitement', 'Vocal Range', 'Sound Quality', 'Tempo', 'Rhythmic Regularity', 'Vocal Tension', 'Vocal Texture']\n",
    "feature_index = 1\n",
    "region = 'north'\n",
    "category = 'musician'\n",
    "\n",
    "def get_individual_feature(feature_index, region, category):\n",
    "    feature_vector = format_feature(0, region, category)[[feature_index]]\n",
    "    label = feature_names[feature_index-1].lower().replace(' ', '_')\n",
    "    for i in range(1,6):\n",
    "        feature_vector = np.concatenate([feature_vector, format_feature(i, region, category)[[feature_index]]], axis=None)\n",
    "    feature_df = pd.DataFrame(feature_vector, columns=[feature_index])\n",
    "    feature_distance = pd.DataFrame(get_feature_distance(feature_df))\n",
    "    feature_distance.to_csv('./output/india/feature/'+label+'_'+region+'_'+category+'.csv')\n",
    "#all average, north, south, musician, non-musician\n",
    "\n",
    "for i in range(1, len(feature_names)):\n",
    "    get_individual_feature(i, 'north', 'musician')\n",
    "    get_individual_feature(i, 'south', 'musician')\n",
    "    get_individual_feature(i, 'north', 'non_musician')\n",
    "    get_individual_feature(i, 'south', 'non_musician')\n",
    "    label = feature_names[i-1].lower().replace(' ', '_')\n",
    "    average_distance_matrix([label+'_north_musician', label+'_south_musician'], label+'_musician')\n",
    "    average_distance_matrix([label+'_north_non_musician', label+'_south_non_musician'], label+'_non_musician')\n",
    "    average_distance_matrix([label+'_north_musician', label+'_north_non_musician'], label+'_north')\n",
    "    average_distance_matrix([label+'_south_musician', label+'_south_non_musician'], label+'_south')\n",
    "    average_distance_matrix([label+'_north_average', label+'_north_average'], label+'_india')"
   ]
  },
  {
   "cell_type": "markdown",
   "id": "bbc31e08",
   "metadata": {},
   "source": [
    "## Combine all partial pairwise matrices"
   ]
  },
  {
   "cell_type": "code",
   "execution_count": 187,
   "id": "14806355",
   "metadata": {},
   "outputs": [],
   "source": [
    "def save_pairwise_partial(region, category):\n",
    "    partial_matrix = np.zeros((30,30), dtype=int)\n",
    "    group = 0\n",
    "    for i in range(30):\n",
    "        if i%5 == 0:\n",
    "            partial_matrix[i:i+5, i:i+5] = format_pair(group, region, category)\n",
    "            group += 1\n",
    "    np.fill_diagonal(partial_matrix, 0)\n",
    "    partial_df = pd.DataFrame(partial_matrix)\n",
    "    partial_df.to_csv('./output/india/pairwise/'+region+'_'+category+'_partial.csv')\n",
    "save_pairwise_partial('north', 'musician')\n",
    "save_pairwise_partial('south', 'musician')\n",
    "save_pairwise_partial('north', 'non_musician')\n",
    "save_pairwise_partial('south', 'non_musician')"
   ]
  },
  {
   "cell_type": "code",
   "execution_count": 191,
   "id": "20cc9703",
   "metadata": {},
   "outputs": [],
   "source": [
    "def average_distance_matrix(input_categories, label):\n",
    "    v1 = pd.read_csv('./output/india/pairwise/'+input_categories[0]+'.csv', index_col=0)\n",
    "    v2 = pd.read_csv('./output/india/pairwise/'+input_categories[1]+'.csv', index_col=0)\n",
    "    average = pd.concat([v1, v2]).groupby(level=0).mean()\n",
    "    average.to_csv('./output/india/pairwise/'+label+'_average.csv')\n",
    "average_distance_matrix(['north_musician_partial', 'north_non_musician_partial'], 'north')\n",
    "average_distance_matrix(['south_musician_partial', 'south_non_musician_partial'], 'south')\n",
    "average_distance_matrix(['north_musician_partial', 'south_musician_partial'], 'musician')\n",
    "average_distance_matrix(['north_non_musician_partial', 'south_non_musician_partial'], 'non_musician')\n",
    "average_distance_matrix(['north_average', 'south_average'], 'india')"
   ]
  }
 ],
 "metadata": {
  "kernelspec": {
   "display_name": "Python 3 (ipykernel)",
   "language": "python",
   "name": "python3"
  },
  "language_info": {
   "codemirror_mode": {
    "name": "ipython",
    "version": 3
   },
   "file_extension": ".py",
   "mimetype": "text/x-python",
   "name": "python",
   "nbconvert_exporter": "python",
   "pygments_lexer": "ipython3",
   "version": "3.8.10"
  }
 },
 "nbformat": 4,
 "nbformat_minor": 5
}
