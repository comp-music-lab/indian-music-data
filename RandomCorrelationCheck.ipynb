{
 "cells": [
  {
   "cell_type": "code",
   "execution_count": 1,
   "metadata": {},
   "outputs": [],
   "source": [
    "import scipy.stats as sp\n",
    "import matplotlib.pyplot as plt\n",
    "import seaborn as sns\n",
    "import pandas as pd\n",
    "import numpy as np\n",
    "import csv\n",
    "import json\n",
    "import os\n",
    "import random"
   ]
  },
  {
   "cell_type": "code",
   "execution_count": 2,
   "metadata": {},
   "outputs": [],
   "source": [
    "def flatten_matrix(data, *args):\n",
    "    flattened_array = []\n",
    "    labels = []\n",
    "    for i in range(5):\n",
    "        for j in range(5):\n",
    "            if i<j-1:\n",
    "                flattened_array.append(data[i,j])\n",
    "    return flattened_array"
   ]
  },
  {
   "cell_type": "code",
   "execution_count": 4,
   "metadata": {},
   "outputs": [
    {
     "name": "stderr",
     "output_type": "stream",
     "text": [
      "/opt/homebrew/lib/python3.9/site-packages/scipy/stats/_stats_py.py:4068: PearsonRConstantInputWarning: An input array is constant; the correlation coefficient is not defined.\n",
      "  warnings.warn(PearsonRConstantInputWarning())\n",
      "/opt/homebrew/lib/python3.9/site-packages/scipy/stats/_stats_py.py:4068: PearsonRConstantInputWarning: An input array is constant; the correlation coefficient is not defined.\n",
      "  warnings.warn(PearsonRConstantInputWarning())\n",
      "/opt/homebrew/lib/python3.9/site-packages/scipy/stats/_stats_py.py:4068: PearsonRConstantInputWarning: An input array is constant; the correlation coefficient is not defined.\n",
      "  warnings.warn(PearsonRConstantInputWarning())\n",
      "/opt/homebrew/lib/python3.9/site-packages/scipy/stats/_stats_py.py:4068: PearsonRConstantInputWarning: An input array is constant; the correlation coefficient is not defined.\n",
      "  warnings.warn(PearsonRConstantInputWarning())\n",
      "/opt/homebrew/lib/python3.9/site-packages/scipy/stats/_stats_py.py:4068: PearsonRConstantInputWarning: An input array is constant; the correlation coefficient is not defined.\n",
      "  warnings.warn(PearsonRConstantInputWarning())\n",
      "/opt/homebrew/lib/python3.9/site-packages/scipy/stats/_stats_py.py:4068: PearsonRConstantInputWarning: An input array is constant; the correlation coefficient is not defined.\n",
      "  warnings.warn(PearsonRConstantInputWarning())\n",
      "/opt/homebrew/lib/python3.9/site-packages/scipy/stats/_stats_py.py:4068: PearsonRConstantInputWarning: An input array is constant; the correlation coefficient is not defined.\n",
      "  warnings.warn(PearsonRConstantInputWarning())\n",
      "/opt/homebrew/lib/python3.9/site-packages/scipy/stats/_stats_py.py:4068: PearsonRConstantInputWarning: An input array is constant; the correlation coefficient is not defined.\n",
      "  warnings.warn(PearsonRConstantInputWarning())\n",
      "/opt/homebrew/lib/python3.9/site-packages/scipy/stats/_stats_py.py:4068: PearsonRConstantInputWarning: An input array is constant; the correlation coefficient is not defined.\n",
      "  warnings.warn(PearsonRConstantInputWarning())\n",
      "/opt/homebrew/lib/python3.9/site-packages/scipy/stats/_stats_py.py:4068: PearsonRConstantInputWarning: An input array is constant; the correlation coefficient is not defined.\n",
      "  warnings.warn(PearsonRConstantInputWarning())\n",
      "/opt/homebrew/lib/python3.9/site-packages/scipy/stats/_stats_py.py:4068: PearsonRConstantInputWarning: An input array is constant; the correlation coefficient is not defined.\n",
      "  warnings.warn(PearsonRConstantInputWarning())\n",
      "/opt/homebrew/lib/python3.9/site-packages/scipy/stats/_stats_py.py:4068: PearsonRConstantInputWarning: An input array is constant; the correlation coefficient is not defined.\n",
      "  warnings.warn(PearsonRConstantInputWarning())\n",
      "/opt/homebrew/lib/python3.9/site-packages/scipy/stats/_stats_py.py:4068: PearsonRConstantInputWarning: An input array is constant; the correlation coefficient is not defined.\n",
      "  warnings.warn(PearsonRConstantInputWarning())\n",
      "/opt/homebrew/lib/python3.9/site-packages/scipy/stats/_stats_py.py:4068: PearsonRConstantInputWarning: An input array is constant; the correlation coefficient is not defined.\n",
      "  warnings.warn(PearsonRConstantInputWarning())\n",
      "/opt/homebrew/lib/python3.9/site-packages/scipy/stats/_stats_py.py:4068: PearsonRConstantInputWarning: An input array is constant; the correlation coefficient is not defined.\n",
      "  warnings.warn(PearsonRConstantInputWarning())\n",
      "/opt/homebrew/lib/python3.9/site-packages/scipy/stats/_stats_py.py:4068: PearsonRConstantInputWarning: An input array is constant; the correlation coefficient is not defined.\n",
      "  warnings.warn(PearsonRConstantInputWarning())\n",
      "/opt/homebrew/lib/python3.9/site-packages/scipy/stats/_stats_py.py:4068: PearsonRConstantInputWarning: An input array is constant; the correlation coefficient is not defined.\n",
      "  warnings.warn(PearsonRConstantInputWarning())\n",
      "/opt/homebrew/lib/python3.9/site-packages/scipy/stats/_stats_py.py:4068: PearsonRConstantInputWarning: An input array is constant; the correlation coefficient is not defined.\n",
      "  warnings.warn(PearsonRConstantInputWarning())\n",
      "/opt/homebrew/lib/python3.9/site-packages/scipy/stats/_stats_py.py:4068: PearsonRConstantInputWarning: An input array is constant; the correlation coefficient is not defined.\n",
      "  warnings.warn(PearsonRConstantInputWarning())\n",
      "/opt/homebrew/lib/python3.9/site-packages/scipy/stats/_stats_py.py:4068: PearsonRConstantInputWarning: An input array is constant; the correlation coefficient is not defined.\n",
      "  warnings.warn(PearsonRConstantInputWarning())\n",
      "/opt/homebrew/lib/python3.9/site-packages/scipy/stats/_stats_py.py:4068: PearsonRConstantInputWarning: An input array is constant; the correlation coefficient is not defined.\n",
      "  warnings.warn(PearsonRConstantInputWarning())\n",
      "/opt/homebrew/lib/python3.9/site-packages/scipy/stats/_stats_py.py:4068: PearsonRConstantInputWarning: An input array is constant; the correlation coefficient is not defined.\n",
      "  warnings.warn(PearsonRConstantInputWarning())\n",
      "/opt/homebrew/lib/python3.9/site-packages/scipy/stats/_stats_py.py:4068: PearsonRConstantInputWarning: An input array is constant; the correlation coefficient is not defined.\n",
      "  warnings.warn(PearsonRConstantInputWarning())\n"
     ]
    }
   ],
   "source": [
    "correlation_values = pd.DataFrame(columns=['r', 'p'])  \n",
    "PATH = './output/india/random-check/'\n",
    "files = os.listdir(path=PATH)\n",
    "\n",
    "answers = pd.DataFrame({'r':[], 'p':[]})\n",
    "\n",
    "for i in range(200):\n",
    "    user_a, user_b = random.choices(files, k=2)\n",
    "    data_x = pd.read_csv(os.path.join(PATH, user_a)).to_numpy()\n",
    "    x = flatten_matrix(data_x)\n",
    "\n",
    "    data_y = pd.read_csv(os.path.join(PATH, user_b)).to_numpy()\n",
    "    y = flatten_matrix(data_y)\n",
    "\n",
    "    corr = sp.pearsonr(x, y)\n",
    "    answers.loc[len(answers)]=corr\n"
   ]
  },
  {
   "cell_type": "code",
   "execution_count": 5,
   "metadata": {},
   "outputs": [
    {
     "data": {
      "image/png": "[encoded data removed]",
      "text/plain": [
       "<Figure size 864x576 with 1 Axes>"
      ]
     },
     "metadata": {
      "needs_background": "light"
     },
     "output_type": "display_data"
    }
   ],
   "source": [
    "answers = answers.fillna(0)\n",
    "plt.figure(figsize=(12,8))\n",
    "plt.xlabel('Pearson R')\n",
    "answers['r'].plot(kind='kde')\n",
    "plt.savefig('./figs/randomized-correlation-plot.png')"
   ]
  },
  {
   "attachments": {},
   "cell_type": "markdown",
   "metadata": {},
   "source": [
    "## Randomly Sample only two Indian Participants N times"
   ]
  },
  {
   "cell_type": "code",
   "execution_count": 6,
   "metadata": {},
   "outputs": [],
   "source": [
    "NUM_PERM = 200"
   ]
  },
  {
   "cell_type": "code",
   "execution_count": 7,
   "metadata": {},
   "outputs": [],
   "source": [
    "# shuffle one of the two arrays with n permutations\n",
    "def permutations(a, b, statistic, n):\n",
    "    p_values = []\n",
    "    for i in range(n):\n",
    "        c = random.sample(b, len(b))\n",
    "        if(len(a)==len(c)):\n",
    "            r, p = sp.pearsonr(a,c)\n",
    "            if(r>statistic):\n",
    "                p_values.append(p)\n",
    "        else:\n",
    "            print(\"Error! array lengths are not the same\")\n",
    "            return\n",
    "    return p_values"
   ]
  },
  {
   "cell_type": "code",
   "execution_count": 8,
   "metadata": {},
   "outputs": [],
   "source": [
    "def flatten_distance_matrix(numpy_array, *args):\n",
    "    arr = []\n",
    "    labels = []\n",
    "    for i in range(5):\n",
    "        for j in range(5):\n",
    "            if i<j:\n",
    "                arr.append(numpy_array[i,j])\n",
    "                labels.append(str(args[0]*5+i)+\",\"+str(args[0]*5+j))\n",
    "    return arr, labels"
   ]
  },
  {
   "cell_type": "code",
   "execution_count": 9,
   "metadata": {},
   "outputs": [],
   "source": [
    "def get_japanese_pairwise():\n",
    "    PATH = './output/japan/similarity/'\n",
    "    japanese_pairwise = []\n",
    "    for i in range(6):\n",
    "        npar = pd.read_csv(PATH+str(i)+'_average_distance.csv').to_numpy()\n",
    "        x,y = flatten_distance_matrix(npar, i)\n",
    "        japanese_pairwise.extend(x)\n",
    "    japanese_pairwise = [x/100 for x in japanese_pairwise]\n",
    "    return japanese_pairwise"
   ]
  },
  {
   "cell_type": "code",
   "execution_count": 10,
   "metadata": {},
   "outputs": [],
   "source": [
    "def get_indian_pairwise():\n",
    "    PATH = './output/india/pairwise/'\n",
    "    sampling = {\n",
    "        0: 'full_north_musician',\n",
    "        1: 'full_south_musician',\n",
    "        2: 'full_north_non',\n",
    "        3: 'full_south_non'\n",
    "    }\n",
    "\n",
    "    indian_pairwise = []\n",
    "    labels = []\n",
    "\n",
    "    group_1 = sampling[round(random.random()*3)]+'.csv'\n",
    "    group_2 = sampling[round(random.random()*3)]+'.csv'\n",
    "    for i in range(6):\n",
    "        npar_1 = pd.read_csv(PATH+group_1).to_numpy()\n",
    "        npar_2 = pd.read_csv(PATH+group_2).to_numpy()\n",
    "        npar = (npar_1+npar_2)/2\n",
    "        x,y = flatten_distance_matrix(npar[i*5:(i*5)+5, i*5:(i*5)+5], i)\n",
    "        indian_pairwise.extend(x)\n",
    "        labels.extend(y)\n",
    "    indian_pairwise = [1- (x / 100) for x in indian_pairwise]\n",
    "    return indian_pairwise"
   ]
  },
  {
   "cell_type": "code",
   "execution_count": 11,
   "metadata": {},
   "outputs": [],
   "source": [
    "def run_random_sampling(df):\n",
    "    ## Japan vs India Correlation\n",
    "    a = get_japanese_pairwise()\n",
    "    b = get_indian_pairwise()\n",
    "    n = 1000\n",
    "    r, p = sp.pearsonr(a,b)\n",
    "    statistic = r\n",
    "    results = permutations(list(a),list(b),statistic, n)\n",
    "    Sum_p = sum(results)\n",
    "    sig = (Sum_p+1)/(n+1)\n",
    "    # Because signif <- (sum(perm >= statistic - EPS) + 1)/(permutations + 1)\n",
    "    df = pd.concat([df, pd.DataFrame([{\"r\":r,\"sig\":sig}])])\n",
    "    return df"
   ]
  },
  {
   "cell_type": "code",
   "execution_count": 12,
   "metadata": {},
   "outputs": [],
   "source": [
    "df = pd.DataFrame(columns=[\"r\",\"sig\"])\n",
    "for i in range(NUM_PERM):\n",
    "    df = run_random_sampling(df)"
   ]
  },
  {
   "cell_type": "code",
   "execution_count": 13,
   "metadata": {},
   "outputs": [],
   "source": [
    "df.to_csv('./output/analysis/random_sample.csv', index=0)"
   ]
  },
  {
   "cell_type": "code",
   "execution_count": 15,
   "metadata": {},
   "outputs": [
    {
     "data": {
      "text/plain": [
       "r      0.688385\n",
       "sig    0.000999\n",
       "dtype: float64"
      ]
     },
     "execution_count": 15,
     "metadata": {},
     "output_type": "execute_result"
    }
   ],
   "source": [
    "df.mean()"
   ]
  },
  {
   "cell_type": "code",
   "execution_count": 18,
   "metadata": {},
   "outputs": [
    {
     "data": {
      "text/plain": [
       "<AxesSubplot:xlabel='Pearson R', ylabel='Density'>"
      ]
     },
     "execution_count": 18,
     "metadata": {},
     "output_type": "execute_result"
    },
    {
     "data": {
      "image/png": "[encoded data removed]",
      "text/plain": [
       "<Figure size 864x576 with 1 Axes>"
      ]
     },
     "metadata": {
      "needs_background": "light"
     },
     "output_type": "display_data"
    }
   ],
   "source": [
    "plt.figure(figsize=(12,8))\n",
    "plt.xlabel('Pearson R')\n",
    "plt.xlim([0, 1])\n",
    "plt.ylim([0,10])    \n",
    "df['r'].plot(kind='kde')"
   ]
  }
 ],
 "metadata": {
  "kernelspec": {
   "display_name": "Python 3",
   "language": "python",
   "name": "python3"
  },
  "language_info": {
   "codemirror_mode": {
    "name": "ipython",
    "version": 3
   },
   "file_extension": ".py",
   "mimetype": "text/x-python",
   "name": "python",
   "nbconvert_exporter": "python",
   "pygments_lexer": "ipython3",
   "version": "3.9.13"
  },
  "orig_nbformat": 4
 },
 "nbformat": 4,
 "nbformat_minor": 2
}
